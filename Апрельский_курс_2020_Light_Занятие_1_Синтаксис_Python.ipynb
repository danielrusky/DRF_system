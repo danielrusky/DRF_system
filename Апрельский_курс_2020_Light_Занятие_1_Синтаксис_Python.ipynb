{
  "nbformat": 4,
  "nbformat_minor": 0,
  "metadata": {
    "kernelspec": {
      "display_name": "Python 3",
      "language": "python",
      "name": "python3"
    },
    "language_info": {
      "codemirror_mode": {
        "name": "ipython",
        "version": 3
      },
      "file_extension": ".py",
      "mimetype": "text/x-python",
      "name": "python",
      "nbconvert_exporter": "python",
      "pygments_lexer": "ipython3",
      "version": "3.6.8"
    },
    "colab": {
      "provenance": [],
      "include_colab_link": true
    }
  },
  "cells": [
    {
      "cell_type": "markdown",
      "metadata": {
        "id": "view-in-github",
        "colab_type": "text"
      },
      "source": [
        "<a href=\"https://colab.research.google.com/github/danielrusky/DRF_system/blob/main/%D0%90%D0%BF%D1%80%D0%B5%D0%BB%D1%8C%D1%81%D0%BA%D0%B8%D0%B9_%D0%BA%D1%83%D1%80%D1%81_2020_Light_%D0%97%D0%B0%D0%BD%D1%8F%D1%82%D0%B8%D0%B5_1_%D0%A1%D0%B8%D0%BD%D1%82%D0%B0%D0%BA%D1%81%D0%B8%D1%81_Python.ipynb\" target=\"_parent\"><img src=\"https://colab.research.google.com/assets/colab-badge.svg\" alt=\"Open In Colab\"/></a>"
      ]
    },
    {
      "cell_type": "markdown",
      "metadata": {
        "id": "3mH4lbPCgwL6"
      },
      "source": [
        "# Основы Python\n",
        "\n",
        "*Разбор данного раздела:* https://youtu.be/jCuRzL4BSkU?t=461\n",
        "\n",
        "Для прикладных целей важно овладеть несколькими аспектами:\n",
        "\n",
        "- Стандартные функции языка\n",
        "- Переменные и типы данных\n",
        "- Основные конструкции\n",
        "- Написание пользовательских функций\n",
        "- Загрузка и использование библиотек"
      ]
    },
    {
      "cell_type": "markdown",
      "metadata": {
        "id": "eXjmiQJCgwMC"
      },
      "source": [
        "## Стандартные функции языка\n",
        "\n",
        "Функции - это маленькие программки, которые умеют выполнять какую-то операцию. <br />\n",
        "Функции <b>вызываются</b>, после имени функции следуют круглые скобки, в которых указываются <b>аргументы</b> (над каким объектом будет выполнена операция) и <b>параметры </b> (с какими условиями)."
      ]
    },
    {
      "cell_type": "markdown",
      "metadata": {
        "id": "DWpeBni2gwMF"
      },
      "source": [
        "### print()\n",
        "\n",
        "*Разбор данного раздела:* https://youtu.be/jCuRzL4BSkU?t=657\n",
        "\n",
        "Функция для вывода содержимого на экран. <br>\n",
        "**Обязательно** передать хотя бы какой-то объект, который нужно напечатать.\n",
        "\n",
        "Ее полный синтаксис:\n",
        "\n",
        "print(*objects, sep=' ', end='\\n', file=sys.stdout, flush=False)¶\n",
        "- objects: один или несколько объектов для вывода, перечисленные через запятую\n",
        "- sep: разделитель между несколькими объектами; стандартно установлен пробел\n",
        "- end: окончание строки; стандартно установлен перевод на новую строчку '\\n'"
      ]
    },
    {
      "cell_type": "code",
      "metadata": {
        "id": "ZBcwztmQgwML",
        "colab": {
          "base_uri": "https://localhost:8080/",
          "height": 34
        },
        "outputId": "22b4e0fc-92df-4525-911f-1deabec111d4"
      },
      "source": [
        "print(4) # Вызываем функцию print и в скобках передаем ей параметр, который требуется напечатать"
      ],
      "execution_count": null,
      "outputs": [
        {
          "output_type": "stream",
          "text": [
            "4\n"
          ],
          "name": "stdout"
        }
      ]
    },
    {
      "cell_type": "code",
      "metadata": {
        "id": "oMadMtROgwMf"
      },
      "source": [
        "print?"
      ],
      "execution_count": null,
      "outputs": []
    },
    {
      "cell_type": "code",
      "metadata": {
        "id": "DZTqDs3egwMv",
        "colab": {
          "base_uri": "https://localhost:8080/",
          "height": 34
        },
        "outputId": "d5b45d1c-9d4c-48ad-fb56-3e6829a43c06"
      },
      "source": [
        "print(5,6,7,8) # Вызываем функцию print и в скобках передаем ей набор параметров, который требуется напечатать"
      ],
      "execution_count": null,
      "outputs": [
        {
          "output_type": "stream",
          "text": [
            "5 6 7 8\n"
          ],
          "name": "stdout"
        }
      ]
    },
    {
      "cell_type": "code",
      "metadata": {
        "id": "WpxbyEEZgwNA",
        "colab": {
          "base_uri": "https://localhost:8080/",
          "height": 34
        },
        "outputId": "7da0bda4-caf7-42a9-a8f7-37fce2c92117"
      },
      "source": [
        "print(5, 6, 7, 8, sep=' slovo ') # Вызываем функцию print, в скобках передаем ей набор параметров и разделтель между ними"
      ],
      "execution_count": null,
      "outputs": [
        {
          "output_type": "stream",
          "text": [
            "5 slovo 6 slovo 7 slovo 8\n"
          ],
          "name": "stdout"
        }
      ]
    },
    {
      "cell_type": "code",
      "metadata": {
        "id": "Zf3QuweTgwNS",
        "colab": {
          "base_uri": "https://localhost:8080/",
          "height": 34
        },
        "outputId": "932b0955-a05e-468d-a013-e2da4b94acd0"
      },
      "source": [
        "print(\"Май\") # Вызываем функцию print и в скобках передаем ей параметр, который требуется напечатать (в данном случае печатаем текстовую информацию)"
      ],
      "execution_count": null,
      "outputs": [
        {
          "output_type": "stream",
          "text": [
            "Май\n"
          ],
          "name": "stdout"
        }
      ]
    },
    {
      "cell_type": "code",
      "metadata": {
        "id": "YQGzrhTwgwNj",
        "colab": {
          "base_uri": "https://localhost:8080/",
          "height": 34
        },
        "outputId": "7c33d75c-6e27-4f43-9294-6338845a56e5"
      },
      "source": [
        "print('Переменная равна: {}'.format(5)) # Вызываем функцию print, которая использует функцию format для подстановки значения"
      ],
      "execution_count": null,
      "outputs": [
        {
          "output_type": "stream",
          "text": [
            "Переменная равна: 5\n"
          ],
          "name": "stdout"
        }
      ]
    },
    {
      "cell_type": "code",
      "metadata": {
        "id": "8MAZFjLBKsyo",
        "colab": {
          "base_uri": "https://localhost:8080/",
          "height": 34
        },
        "outputId": "bc59146d-d9c6-4848-e2b6-681f019aa828"
      },
      "source": [
        "print('Переменная равна:', 5) # Альтернативный вариант печати информации из предыдущего пункта"
      ],
      "execution_count": null,
      "outputs": [
        {
          "output_type": "stream",
          "text": [
            "Переменная равна: 5\n"
          ],
          "name": "stdout"
        }
      ]
    },
    {
      "cell_type": "code",
      "metadata": {
        "id": "ak0ByW9pK3ON",
        "colab": {
          "base_uri": "https://localhost:8080/",
          "height": 34
        },
        "outputId": "8f484a66-54b5-4546-8047-caa72b7e69f0"
      },
      "source": [
        "print('Переменная равна: {} и вторая переменная равна: {}' .format(5, 7)) # Вызываем функцию print, которая использует функцию format для подстановки двух значений"
      ],
      "execution_count": null,
      "outputs": [
        {
          "output_type": "stream",
          "text": [
            "Переменная равна: 5 и вторая переменная равна: 7\n"
          ],
          "name": "stdout"
        }
      ]
    },
    {
      "cell_type": "code",
      "metadata": {
        "id": "QzE2VR0IK8mX",
        "colab": {
          "base_uri": "https://localhost:8080/",
          "height": 34
        },
        "outputId": "8d3fa6fc-ee88-4f9a-b5d0-b8aafb5cc260"
      },
      "source": [
        "print('Переменная равна: {} и вторая переменная равна: {}'.format(5.123, 7.9384950)) # Альтернативный вариант печати информации из предыдущего пункта"
      ],
      "execution_count": null,
      "outputs": [
        {
          "output_type": "stream",
          "text": [
            "Переменная равна: 5.123 и вторая переменная равна: 7.938495\n"
          ],
          "name": "stdout"
        }
      ]
    },
    {
      "cell_type": "code",
      "metadata": {
        "id": "3imScjy0wvX9",
        "colab": {
          "base_uri": "https://localhost:8080/",
          "height": 34
        },
        "outputId": "0a3d8ec5-a9b8-426b-cb2b-53b7c808637d"
      },
      "source": [
        "print('Переменная равна: {:.1f} и вторая переменная равна: {:.2f}'.format(5.123, 7.9384950)) # Пример округления чисел с помощью функции format"
      ],
      "execution_count": null,
      "outputs": [
        {
          "output_type": "stream",
          "text": [
            "Переменная равна: 5.1 и вторая переменная равна: 7.94\n"
          ],
          "name": "stdout"
        }
      ]
    },
    {
      "cell_type": "code",
      "metadata": {
        "id": "uBzsZR42ueH8",
        "colab": {
          "base_uri": "https://localhost:8080/",
          "height": 34
        },
        "outputId": "184edd61-b8fc-42b9-fe03-6078d07575ca"
      },
      "source": [
        "print('Переменная равна:', round(5.123, 1),'и вторая переменная равна:',  round(7.9384950,2))"
      ],
      "execution_count": null,
      "outputs": [
        {
          "output_type": "stream",
          "text": [
            "Переменная равна: 5.1 и вторая переменная равна: 7.94\n"
          ],
          "name": "stdout"
        }
      ]
    },
    {
      "cell_type": "markdown",
      "metadata": {
        "id": "AX_KsdJHgwN6"
      },
      "source": [
        "#### Задача 1\n",
        "\n",
        "*Разбор данного раздела:* https://youtu.be/jCuRzL4BSkU?t=1687\n",
        "\n",
        "Выведите на экран фразу \"Hello, world!\""
      ]
    },
    {
      "cell_type": "code",
      "metadata": {
        "id": "Q6Urwmq9gwOL",
        "colab": {
          "base_uri": "https://localhost:8080/",
          "height": 34
        },
        "outputId": "47de671d-8f84-4ef7-e2e2-2a0bd9fd0a57"
      },
      "source": [
        "# Решение задачи с помощью функции print\n",
        "print(\"Hello, world!\")"
      ],
      "execution_count": null,
      "outputs": [
        {
          "output_type": "stream",
          "text": [
            "Hello, world!\n"
          ],
          "name": "stdout"
        }
      ]
    },
    {
      "cell_type": "markdown",
      "metadata": {
        "id": "FPmCE5oMgwPN"
      },
      "source": [
        "### Арифметические операции\n",
        "\n",
        "*Разбор данного раздела:* https://youtu.be/jCuRzL4BSkU?t=1778\n",
        "\n",
        "\n",
        "- Сложение: +\n",
        "- Вычитание: -\n",
        "- Умножение: *\n",
        "- Деление: /\n",
        "- Возведение в степень: **\n",
        "- Целочисленное деление: //\n",
        "- Остаток от деления: %"
      ]
    },
    {
      "cell_type": "code",
      "metadata": {
        "id": "lzqViGqYgwPR",
        "colab": {
          "base_uri": "https://localhost:8080/",
          "height": 138
        },
        "outputId": "be854841-dae1-4961-ea79-77a45958617b"
      },
      "source": [
        "print('Работаем с числами', 5, 'и', 2) # Вызываем функцию print для печати сообщения\n",
        "print(5 + 2) # Вызываем функцию print, которая выведет результат сложения 5 и 2\n",
        "print(5 - 2) # Вызываем функцию print, которая выведет разность 5 и 2\n",
        "print(5 * 2) # Вызываем функцию print, которая выведет произведение 5 и 2\n",
        "print(5 / 2) # Вызываем функцию print, которая выведет частное 5 и 2\n",
        "print(5 // 2) # Вызываем функцию print, которая выведет результат целочисленного деления 5 на 2\n",
        "print('Результат остатка от деления:', 5 % 2) # Вызываем функцию print, которая выведет остаток от деления 5 на 2\n",
        "print('Результат возведения в степени:', 5 ** 2) # Вызываем функцию print, которая выведет результат возведения в квадрат числа 5"
      ],
      "execution_count": null,
      "outputs": [
        {
          "output_type": "stream",
          "text": [
            "7\n",
            "3\n",
            "10\n",
            "2.5\n",
            "1\n",
            "Результат остатка от деления: 2\n",
            "Результат возведения в степени: 81\n"
          ],
          "name": "stdout"
        }
      ]
    },
    {
      "cell_type": "markdown",
      "metadata": {
        "id": "HWG-xiikgwPl"
      },
      "source": [
        "Для выведения результата на экран не обязательно прописывать print(), можно просто выполнить ячейку, при этом отобразится результат только последней строчки кода:"
      ]
    },
    {
      "cell_type": "code",
      "metadata": {
        "id": "Em4g2ATNgwPs",
        "colab": {
          "base_uri": "https://localhost:8080/",
          "height": 34
        },
        "outputId": "9f039ee3-bcc4-43ac-c020-fabf304855b6"
      },
      "source": [
        "5 + 2 # Складываем 5 и 2"
      ],
      "execution_count": null,
      "outputs": [
        {
          "output_type": "execute_result",
          "data": {
            "text/plain": [
              "7"
            ]
          },
          "metadata": {
            "tags": []
          },
          "execution_count": 35
        }
      ]
    },
    {
      "cell_type": "code",
      "metadata": {
        "id": "WHo3fT33gwQE",
        "colab": {
          "base_uri": "https://localhost:8080/",
          "height": 34
        },
        "outputId": "0680ef1f-15f5-4c35-9803-9e1fdd08bcbd"
      },
      "source": [
        "5 + 2 # Складываем 5 и 2\n",
        "5 * 2 # Умножаем 5 на 2"
      ],
      "execution_count": null,
      "outputs": [
        {
          "output_type": "execute_result",
          "data": {
            "text/plain": [
              "10"
            ]
          },
          "metadata": {
            "tags": []
          },
          "execution_count": 36
        }
      ]
    },
    {
      "cell_type": "code",
      "metadata": {
        "id": "3zpgs4QcgwQV",
        "colab": {
          "base_uri": "https://localhost:8080/",
          "height": 52
        },
        "outputId": "993b5ac9-52af-4f97-a5b2-5205a3b3033e"
      },
      "source": [
        "print(5 + 2) # Вызываем функцию print, которая выведет результат сложения 5 и 2\n",
        "5 * 2 # Умножаем 5 на 2"
      ],
      "execution_count": null,
      "outputs": [
        {
          "output_type": "stream",
          "text": [
            "7\n"
          ],
          "name": "stdout"
        },
        {
          "output_type": "execute_result",
          "data": {
            "text/plain": [
              "10"
            ]
          },
          "metadata": {
            "tags": []
          },
          "execution_count": 37
        }
      ]
    },
    {
      "cell_type": "code",
      "metadata": {
        "id": "vOuFjU_bgwQo",
        "colab": {
          "base_uri": "https://localhost:8080/",
          "height": 52
        },
        "outputId": "5708befc-6df9-4b33-f528-c16012d709f2"
      },
      "source": [
        "print(5 + 2) # Вызываем функцию print, которая выведет результат сложения 5 и 2\n",
        "print(5 * 2) # Вызываем функцию print, которая выведет произведение 5 и 2"
      ],
      "execution_count": null,
      "outputs": [
        {
          "output_type": "stream",
          "text": [
            "7\n",
            "10\n"
          ],
          "name": "stdout"
        }
      ]
    },
    {
      "cell_type": "markdown",
      "metadata": {
        "id": "rl1kGggfgwQ4"
      },
      "source": [
        "#### Задача 2\n",
        "\n",
        "*Разбор данного раздела:* https://youtu.be/jCuRzL4BSkU?t=2125\n",
        "\n",
        "Найти площадь круга с радиусом $R = 5$. Подсказка: площадь круга вычисляется по формуле $S = \\pi * R^2, \\pi$ ~ 3.14"
      ]
    },
    {
      "cell_type": "code",
      "metadata": {
        "id": "BC0TxE7GgwQ_",
        "colab": {
          "base_uri": "https://localhost:8080/",
          "height": 34
        },
        "outputId": "ef114e6f-1412-4ac5-bb37-fc43005e38e0"
      },
      "source": [
        "# Решение задачи\n",
        "print('Площадь круга равна:', 3.14 * 5 ** 2)"
      ],
      "execution_count": null,
      "outputs": [
        {
          "output_type": "stream",
          "text": [
            "Площадь круга равна: 78.5\n"
          ],
          "name": "stdout"
        }
      ]
    },
    {
      "cell_type": "markdown",
      "metadata": {
        "id": "qbpPCdLXgwRN"
      },
      "source": [
        "### Переменные и типы переменных\n",
        "\n",
        "*Разбор данного раздела:* https://youtu.be/jCuRzL4BSkU?t=2954\n",
        "\n",
        "Результаты операций и манипуляций иногда нужно сохранять, поэтому мы определяем переменные - именованные объекты, которым присваиваем значения."
      ]
    },
    {
      "cell_type": "code",
      "metadata": {
        "id": "eTMoHu16gwRT"
      },
      "source": [
        "# Задаем значения переменных\n",
        "S = 100 # Создаем переменную S и присваиваем ей значение 100\n",
        "pi_ = 3.14 # Создаем переменную pi_  и присваиваем ей значение 3.14"
      ],
      "execution_count": null,
      "outputs": []
    },
    {
      "cell_type": "code",
      "metadata": {
        "id": "qDrMoGpsmazH"
      },
      "source": [
        "r = (S / pi_) ** (0.5) # Создаем переменную r и присваиваем ей значение, которое получается в  результате (S / pi_) ** (0.5)"
      ],
      "execution_count": null,
      "outputs": []
    },
    {
      "cell_type": "code",
      "metadata": {
        "id": "2MRHng15gwRd",
        "colab": {
          "base_uri": "https://localhost:8080/",
          "height": 34
        },
        "outputId": "b5327723-9da1-43e4-a2a8-e2f06bf42346"
      },
      "source": [
        "print('r', round(r,2), sep='=')  # Вызываем функцию print, которая выведет переменную r, округленную до двух знаков после запятой"
      ],
      "execution_count": null,
      "outputs": [
        {
          "output_type": "stream",
          "text": [
            "r=5.64\n"
          ],
          "name": "stdout"
        }
      ]
    },
    {
      "cell_type": "markdown",
      "metadata": {
        "id": "YNvnYZDqgwRt"
      },
      "source": [
        "#### Задача 3\n",
        "\n",
        "*Разбор данного раздела:* https://youtu.be/jCuRzL4BSkU?t=3376\n",
        "\n",
        "Найти площадь круга с радиусом $R = 5$. Подсказка: площадь круга вычисляется по формуле $S = \\pi * R^2, \\pi$ ~ 3.14\n",
        "\n",
        "- Создайте переменную r со значением 5\n",
        "- Создайте переменную pi_ со значением 3.14\n",
        "- Сохраните результат вычисления в переменную S\n",
        "- Выведите на печать результаты"
      ]
    },
    {
      "cell_type": "code",
      "metadata": {
        "id": "cQSPW3pqgwR0"
      },
      "source": [
        "# Решение задачи\n",
        "r = 1\n",
        "pi_ = 3.14"
      ],
      "execution_count": null,
      "outputs": []
    },
    {
      "cell_type": "code",
      "metadata": {
        "id": "6pbrTCeg1lrP",
        "colab": {
          "base_uri": "https://localhost:8080/",
          "height": 34
        },
        "outputId": "87d97f52-c87d-4851-ccd9-3b8c34043f7a"
      },
      "source": [
        "S = pi_ * r ** 2\n",
        "print('Площадь круга равна:', S)"
      ],
      "execution_count": null,
      "outputs": [
        {
          "output_type": "stream",
          "text": [
            "Площадь круга равна: 3.14\n"
          ],
          "name": "stdout"
        }
      ]
    },
    {
      "cell_type": "markdown",
      "metadata": {
        "id": "BDS_hmbhgwOk"
      },
      "source": [
        "### input()\n",
        "\n",
        "*Разбор данного раздела:* https://youtu.be/jCuRzL4BSkU?t=3624\n",
        "\n",
        "Функция для ввода данных в программу с клавиатуры. <br>\n",
        "Обязательных аргументов нет. Можно передавать строчку, которая будет выведена перед ячейкой ввода."
      ]
    },
    {
      "cell_type": "code",
      "metadata": {
        "id": "0YgIuroCgwOp",
        "colab": {
          "base_uri": "https://localhost:8080/",
          "height": 52
        },
        "outputId": "b990dc0d-6b14-4cda-fce1-7363df641eb0"
      },
      "source": [
        "name = input() # Вызываем функцию input, которая позволяет вводить данные с клавиатуры и записываем введенные данные в переменную name\n",
        "print('Меня зовут ', name) # Вызываем функцию print, которая выведет значение переменной name"
      ],
      "execution_count": null,
      "outputs": [
        {
          "output_type": "stream",
          "text": [
            "Egor\n",
            "Меня зовут  Egor\n"
          ],
          "name": "stdout"
        }
      ]
    },
    {
      "cell_type": "markdown",
      "metadata": {
        "id": "Asnp0MjxgwO3"
      },
      "source": [
        "А здесь небольшое преобразование позволит вывести перед ячейкой ввода нужный текст."
      ]
    },
    {
      "cell_type": "code",
      "metadata": {
        "id": "id69vPyigwO8",
        "colab": {
          "base_uri": "https://localhost:8080/",
          "height": 52
        },
        "outputId": "69c59f1a-d685-4053-fb39-aaed5ad372f0"
      },
      "source": [
        "name = input('Введите ваше имя: ') # Вызываем функцию input с приветственным сообщением, которая позволяет вводить данные с клавиатуры и записываем введенные данные в переменную name\n",
        "print('Меня зовут ', name) # Вызываем функцию print, которая выведет значение переменной name"
      ],
      "execution_count": null,
      "outputs": [
        {
          "output_type": "stream",
          "text": [
            "Введите ваше имя: 45\n",
            "Меня зовут  45\n"
          ],
          "name": "stdout"
        }
      ]
    },
    {
      "cell_type": "markdown",
      "metadata": {
        "id": "fuSf1T6DgwR-"
      },
      "source": [
        "### Основные типы данных:\n",
        "\n",
        "*Разбор данного раздела:* https://youtu.be/jCuRzL4BSkU?t=3786\n",
        "\n",
        "   \n",
        "- int (integer numbers) - целые числа\n",
        "- float (floating-point numbers) - числа с плавающей точкой\n",
        "- str (string) - строки\n",
        "- bool (boolean) - логический тип"
      ]
    },
    {
      "cell_type": "markdown",
      "metadata": {
        "id": "m6zDG1uTgwSB"
      },
      "source": [
        "Функция **type** позволяет определить, какого типа переменная нам дана или какого типа переменную мы записали."
      ]
    },
    {
      "cell_type": "code",
      "metadata": {
        "id": "TQ_XzJgggwSI",
        "colab": {
          "base_uri": "https://localhost:8080/",
          "height": 52
        },
        "outputId": "c9ad1b52-e7e9-4154-f636-a983abd17f86"
      },
      "source": [
        "print(type(r)) # Вызываем функцию print, которая выведет тип переменной r\n",
        "print(type(S)) # Вызываем функцию print, которая выведет тип переменной S"
      ],
      "execution_count": null,
      "outputs": [
        {
          "output_type": "stream",
          "text": [
            "<class 'int'>\n",
            "<class 'float'>\n"
          ],
          "name": "stdout"
        }
      ]
    },
    {
      "cell_type": "code",
      "metadata": {
        "id": "Jadp2DK0gwST",
        "colab": {
          "base_uri": "https://localhost:8080/",
          "height": 34
        },
        "outputId": "d685f1f9-f64e-482b-ce4c-efedf158a752"
      },
      "source": [
        "text = 'Площадь круга' # Создаем переменную с именем text и присваиваем ей значение \"Площадь круга\"\n",
        "print(type(text)) # Вызываем функцию print, которая выведет тип переменной text"
      ],
      "execution_count": null,
      "outputs": [
        {
          "output_type": "stream",
          "text": [
            "<class 'str'>\n"
          ],
          "name": "stdout"
        }
      ]
    },
    {
      "cell_type": "code",
      "metadata": {
        "id": "IfkU7m2qgwSg",
        "colab": {
          "base_uri": "https://localhost:8080/",
          "height": 34
        },
        "outputId": "127253cd-ba60-4b7d-9a6b-573886967bae"
      },
      "source": [
        "x = False # Создаем переменную с именем x и присваиваем ей значение True\n",
        "print(type(x)) # Вызываем функцию print, которая выведет тип переменной x"
      ],
      "execution_count": null,
      "outputs": [
        {
          "output_type": "stream",
          "text": [
            "<class 'bool'>\n"
          ],
          "name": "stdout"
        }
      ]
    },
    {
      "cell_type": "markdown",
      "metadata": {
        "id": "YfLVBd0SgwS6"
      },
      "source": [
        "Если нужно поменять тип переменной, то полезны функции:\n",
        "\n",
        "- int() - возвращает целочисленную переменную\n",
        "- float() - возвращает нецелочисленную переменную\n",
        "- bool() - возвращает булеву переменную\n",
        "- str() - возвращает строковую переменную"
      ]
    },
    {
      "cell_type": "code",
      "metadata": {
        "id": "qD1wIW6wgwTQ",
        "colab": {
          "base_uri": "https://localhost:8080/",
          "height": 69
        },
        "outputId": "2baab7b4-5460-435f-f3c9-70f7196a4e24"
      },
      "source": [
        "print(r, type(r)) # Вызываем функцию print, которая выведет значение и тип переменной r\n",
        "r_new = str(r) # Создадим переменную r_new и запишем в нее значение переменной r, преобразованной к типу str (строковый)\n",
        "print(r_new, type(r_new)) # Вызываем функцию print, которая выведет значение и тип переменной r_new\n",
        "print('Радиус ' + 'круга: ' + r_new) # Вызываем функцию print, которая выведет радиус круга, записанный в переменной r_new"
      ],
      "execution_count": null,
      "outputs": [
        {
          "output_type": "stream",
          "text": [
            "1 <class 'int'>\n",
            "1 <class 'str'>\n",
            "Радиус  круга:  1\n"
          ],
          "name": "stdout"
        }
      ]
    },
    {
      "cell_type": "code",
      "metadata": {
        "id": "GoHqTdGEgwS8",
        "colab": {
          "base_uri": "https://localhost:8080/",
          "height": 34
        },
        "outputId": "c23ac08a-8d94-4b26-936a-0990f7eb8e64"
      },
      "source": [
        "# Конкатенация строк\n",
        "conc = 'Мое имя' + ' ' + 'Дмитрий' # Создадим переменную conc и запишем в нее резуьтат конкатенации 3 текстовых значения\n",
        "print(conc) # Вызываем функцию print, которая выведет значение переменной conc"
      ],
      "execution_count": null,
      "outputs": [
        {
          "output_type": "stream",
          "text": [
            "Мое имя Дмитрий\n"
          ],
          "name": "stdout"
        }
      ]
    },
    {
      "cell_type": "code",
      "metadata": {
        "id": "Qcm7kL4h4eiX",
        "colab": {
          "base_uri": "https://localhost:8080/",
          "height": 34
        },
        "outputId": "f45dc10e-fc49-414a-8ee7-7c36ad728d59"
      },
      "source": [
        "5 + 6 + 7"
      ],
      "execution_count": null,
      "outputs": [
        {
          "output_type": "execute_result",
          "data": {
            "text/plain": [
              "18"
            ]
          },
          "metadata": {
            "tags": []
          },
          "execution_count": 72
        }
      ]
    },
    {
      "cell_type": "code",
      "metadata": {
        "id": "LwS-mDmPgwTp"
      },
      "source": [
        "print(10 - float(r_new)) # Вызываем функцию print, которая выведет разность 10 и переменной r_new, преобразованной к типу float"
      ],
      "execution_count": null,
      "outputs": []
    },
    {
      "cell_type": "code",
      "metadata": {
        "id": "a_TjqfuqgwT9",
        "colab": {
          "base_uri": "https://localhost:8080/",
          "height": 34
        },
        "outputId": "2cd2e50f-0772-411b-ea50-2486b38823dd"
      },
      "source": [
        "2 != 3 # Проверяем на неравенство 2 и 3"
      ],
      "execution_count": null,
      "outputs": [
        {
          "output_type": "execute_result",
          "data": {
            "text/plain": [
              "True"
            ]
          },
          "metadata": {
            "tags": []
          },
          "execution_count": 77
        }
      ]
    },
    {
      "cell_type": "code",
      "metadata": {
        "id": "MgiYJJ_-gwUI",
        "colab": {
          "base_uri": "https://localhost:8080/",
          "height": 34
        },
        "outputId": "b043ae98-7726-4f62-b01a-ac6926aa01f3"
      },
      "source": [
        "a = 2 # Создаем переменную с именем a и присваиваем ей значение 2\n",
        "b = 3 # Создаем переменную с именем b и присваиваем ей значение 3\n",
        "\n",
        "a != b # Проверяем на неравенство переменные a и b"
      ],
      "execution_count": null,
      "outputs": [
        {
          "output_type": "execute_result",
          "data": {
            "text/plain": [
              "True"
            ]
          },
          "metadata": {
            "tags": []
          },
          "execution_count": 78
        }
      ]
    },
    {
      "cell_type": "code",
      "metadata": {
        "id": "H2bG8VYIgwUT",
        "colab": {
          "base_uri": "https://localhost:8080/",
          "height": 69
        },
        "outputId": "eff49274-6852-4d88-981f-20f740dc5773"
      },
      "source": [
        "x = 2 * 2 == 5 # Создаем переменную x и присваиваем ей результат выражения 2 * 2 == 5\n",
        "print(type(x)) # Вызываем функцию print, которая выведет тип переменной x\n",
        "print(x) # Вызываем функцию print, которая выведет значение переменной x\n",
        "print(int(x)) # Вызываем функцию print, которая выведет значение переменной x, преобразованной к типу int"
      ],
      "execution_count": null,
      "outputs": [
        {
          "output_type": "stream",
          "text": [
            "<class 'bool'>\n",
            "False\n",
            "0\n"
          ],
          "name": "stdout"
        }
      ]
    },
    {
      "cell_type": "code",
      "metadata": {
        "id": "gvl1qTrHgwUd",
        "colab": {
          "base_uri": "https://localhost:8080/",
          "height": 69
        },
        "outputId": "fe8efd28-e5b6-41e3-af68-683d5ccd9129"
      },
      "source": [
        "x = 2 * 2 != 5 # Создаем переменную x и присваиваем ей результат выражения 2 * 2 != 5\n",
        "print(type(x)) # Вызываем функцию print, которая выведет тип переменной x\n",
        "print(x) # Вызываем функцию print, которая выведет значение переменной x\n",
        "print(int(x)) # Вызываем функцию print, которая выведет значение переменной x, преобразованной к типу int"
      ],
      "execution_count": null,
      "outputs": [
        {
          "output_type": "stream",
          "text": [
            "<class 'bool'>\n",
            "True\n",
            "1\n"
          ],
          "name": "stdout"
        }
      ]
    },
    {
      "cell_type": "code",
      "metadata": {
        "id": "k5JD02ia6Nev"
      },
      "source": [
        " x   y     x and y\n",
        " 0   0        0\n",
        " 0   1        0\n",
        " 1   0        0\n",
        " 1   1        1"
      ],
      "execution_count": null,
      "outputs": []
    },
    {
      "cell_type": "code",
      "metadata": {
        "id": "tt4Z8fEd6fha"
      },
      "source": [
        " x   y     x or y\n",
        " 0   0        0\n",
        " 0   1        1\n",
        " 1   0        1\n",
        " 1   1        1"
      ],
      "execution_count": null,
      "outputs": []
    },
    {
      "cell_type": "code",
      "metadata": {
        "id": "83D1kxjH6lc6"
      },
      "source": [
        " x       not x\n",
        " 0          1\n",
        " 1          0"
      ],
      "execution_count": null,
      "outputs": []
    },
    {
      "cell_type": "markdown",
      "metadata": {
        "id": "75qI8JMIgwUo"
      },
      "source": [
        "Чтобы записать сложное логическое выражение, часто бывает необходимо воспользоваться логическими связками \"и\", \"или\" и \"не\". В Питоне они обозначаются как and, or и not соответственно. Операции and и or являеются бинарными, т.е. должны быть записаны между операндами, например x < 3 or y > 2. Операция not - унарная и должна быть записана перед единственным своим операндом."
      ]
    },
    {
      "cell_type": "code",
      "metadata": {
        "id": "iAfGrehIgwUq",
        "colab": {
          "base_uri": "https://localhost:8080/",
          "height": 69
        },
        "outputId": "6709cbf2-b18e-4f2c-e447-e8cf1b3f4993"
      },
      "source": [
        "x = 4 # Создаем переменную x и присваиваем ей значение 4\n",
        "y = 5 # Создаем переменную y и присваиваем ей значение 5\n",
        "print(x > 3 and y > 3) # Вызываем функцию print, которая выведет результат выражения (x > 3 and y > 3)\n",
        "print(x > y or x == y) # Вызываем функцию print, которая выведет результат выражения (x > y or x == y)\n",
        "print(not (x > y)) # Вызываем функцию print, которая выведет результат выражения (not (x > y))"
      ],
      "execution_count": null,
      "outputs": [
        {
          "output_type": "stream",
          "text": [
            "True\n",
            "False\n",
            "True\n"
          ],
          "name": "stdout"
        }
      ]
    },
    {
      "cell_type": "code",
      "metadata": {
        "id": "yVFwyFkbgwU1",
        "colab": {
          "base_uri": "https://localhost:8080/",
          "height": 34
        },
        "outputId": "746d6a62-c503-43d7-cfe2-b6d3b38bbe50"
      },
      "source": [
        "a = 1 # Создаем переменную a и присваиваем ей значение 1\n",
        "b = 2 # Создаем переменную b и присваиваем ей значение 2\n",
        "c = 3 # Создаем переменную c и присваиваем ей значение 3\n",
        "d = 4 # Создаем переменную d и присваиваем ей значение 4\n",
        "\n",
        "((a == d) and (a > c)) != 4 # Считаем значение выражения"
      ],
      "execution_count": null,
      "outputs": [
        {
          "output_type": "execute_result",
          "data": {
            "text/plain": [
              "True"
            ]
          },
          "metadata": {
            "tags": []
          },
          "execution_count": 84
        }
      ]
    },
    {
      "cell_type": "code",
      "metadata": {
        "id": "PHba8zUpgwU_",
        "colab": {
          "base_uri": "https://localhost:8080/",
          "height": 34
        },
        "outputId": "a1d06280-febd-40ca-933e-6d1998f77fe2"
      },
      "source": [
        "((False) and (False)) != 4 # Считаем значение выражения"
      ],
      "execution_count": null,
      "outputs": [
        {
          "output_type": "execute_result",
          "data": {
            "text/plain": [
              "True"
            ]
          },
          "metadata": {
            "tags": []
          },
          "execution_count": 86
        }
      ]
    },
    {
      "cell_type": "code",
      "metadata": {
        "id": "l-Ut9t-JgwVI",
        "colab": {
          "base_uri": "https://localhost:8080/",
          "height": 34
        },
        "outputId": "70e3d40b-b66b-4e9e-bf82-4e97388f9eb7"
      },
      "source": [
        "False != 4 # Проверяем на неравенство False и 4"
      ],
      "execution_count": null,
      "outputs": [
        {
          "output_type": "execute_result",
          "data": {
            "text/plain": [
              "True"
            ]
          },
          "metadata": {
            "tags": []
          },
          "execution_count": 85
        }
      ]
    },
    {
      "cell_type": "markdown",
      "metadata": {
        "id": "IYcBpG-hgwVQ"
      },
      "source": [
        "#### Задача 4\n",
        "\n",
        "*Разбор данного раздела:* https://youtu.be/jCuRzL4BSkU?t=5141\n",
        "\n",
        "Сравните $2^3$ и $3^2$. Результат распечатайте."
      ]
    },
    {
      "cell_type": "code",
      "metadata": {
        "id": "2Tsy5ctFgwVW",
        "colab": {
          "base_uri": "https://localhost:8080/",
          "height": 86
        },
        "outputId": "5dd34a46-3977-40f5-a8b0-13469719ce9a"
      },
      "source": [
        "# Место для решения\n",
        "a = 2 ** 3\n",
        "b = 3 ** 2\n",
        "print(a, b)\n",
        "print (a == b)\n",
        "print (a > b)\n",
        "print (a < b)"
      ],
      "execution_count": null,
      "outputs": [
        {
          "output_type": "stream",
          "text": [
            "8 9\n",
            "False\n",
            "False\n",
            "True\n"
          ],
          "name": "stdout"
        }
      ]
    },
    {
      "cell_type": "markdown",
      "metadata": {
        "id": "zGYhxvAYgwVg"
      },
      "source": [
        "#### Задача 5\n",
        "\n",
        "Напишите логическое выражение для проверки попадания введенного числа в интервал от 0 до 10."
      ]
    },
    {
      "cell_type": "code",
      "metadata": {
        "id": "Zm54mA6AgwVj"
      },
      "source": [
        "# Место для решения\n",
        "value = int(input ('Введите число ') )\n",
        "\n",
        "0 <= value <= 10"
      ],
      "execution_count": null,
      "outputs": []
    },
    {
      "cell_type": "markdown",
      "metadata": {
        "id": "AuZ5H20IgwVw"
      },
      "source": [
        "### Условный оператор\n",
        "\n",
        "*Разбор данного раздела:* https://youtu.be/jCuRzL4BSkU?t=5344\n",
        "\n"
      ]
    },
    {
      "cell_type": "markdown",
      "metadata": {
        "id": "-O_f_ZXFgwV1"
      },
      "source": [
        "Наиболее частое применение логические выражения находят в условных операторах.\n",
        "\n",
        "Синтаксис в питоне: <br />\n",
        "**if** условие_1:<br />\n",
        "&emsp; команды<br />\n",
        "**elif** условие_2:<br />\n",
        "&emsp; команды<br />\n",
        "**elif** условие_3:<br />\n",
        "&emsp; команды<br />\n",
        "&emsp; ... <br />\n",
        "**elif** условие_N:<br />\n",
        "&emsp; команды<br />\n",
        "**else**: <br />\n",
        "&emsp; команды<br />"
      ]
    },
    {
      "cell_type": "markdown",
      "metadata": {
        "id": "P4vrCBc1gwV4"
      },
      "source": [
        "**Пример**"
      ]
    },
    {
      "cell_type": "code",
      "metadata": {
        "id": "UUmfDyKHgwV7",
        "colab": {
          "base_uri": "https://localhost:8080/",
          "height": 52
        },
        "outputId": "2de17dae-11c1-481b-9c2a-0072c8312996"
      },
      "source": [
        "x = 2 ** 3   # Создаем переменную x и присваиваем ей значение 2 ** 3\n",
        "y = 3 ** 2   # Создаем переменную y и присваиваем ей значение 3 ** 2\n",
        "\n",
        "if x > y: # Если x > y\n",
        "    print('X больше Y') # то вызываем функцию print, которая выведет фразу: 'X больше Y'\n",
        "    print(x - y) # И вызываем фугкцию print, которая выведет разность x и y\n",
        "else: # В противном случае (если x <= y)\n",
        "    print('') # Вызвываем функцию print, которая выведет пустую строку\n",
        "    print('Y не меньше, чем X') # и вызываем функцию print, которая выведет фразу: 'Y не меньше, чем X'"
      ],
      "execution_count": null,
      "outputs": [
        {
          "output_type": "stream",
          "text": [
            "\n",
            "Y не меньше, чем X\n"
          ],
          "name": "stdout"
        }
      ]
    },
    {
      "cell_type": "code",
      "metadata": {
        "id": "yS6ayadXgwWG",
        "colab": {
          "base_uri": "https://localhost:8080/",
          "height": 69
        },
        "outputId": "f94bff19-d9ea-49a2-e75c-167824a2984c"
      },
      "source": [
        "x = int(input('Введите число X: ')) # Вызываем функцию input (просим пользователя ввести число X) и записываем введенные данные в переменную x (при этом преобразуем их к типу int)\n",
        "y = int(input('Введите число Y: ')) # Вызываем функцию input (просим пользователя ввести число Y) и записываем введенные данные в переменную y (при этом преобразуем их к типу int)\n",
        "\n",
        "if x > y: # Если x > y\n",
        "    print('X больше Y') # то вызываем функцию print, которая выведет фразу: 'X больше Y'\n",
        "    print('x - y = ', x - y) # И вызываем фугкцию print, которая выведет разность x и y\n",
        "elif y > x: # в противном случае, если y > x\n",
        "    print('Y больше X') # то вызываем функцию print, которая выведет фразу: 'Y больше X'\n",
        "    print('y - x = ', y - x) # И вызываем фугкцию print, которая выведет разность y и x\n",
        "else: # в противном случае (x равен y)\n",
        "    print('X равно Y') # вызываем функцию print, которая выведет фразу: 'X равно Y'"
      ],
      "execution_count": null,
      "outputs": [
        {
          "output_type": "stream",
          "text": [
            "Введите число X: 4\n",
            "Введите число Y: 4\n",
            "X равно Y\n"
          ],
          "name": "stdout"
        }
      ]
    },
    {
      "cell_type": "markdown",
      "metadata": {
        "id": "F-qHPYKcgwWO"
      },
      "source": [
        "#### Задача 6\n",
        "\n",
        "*Разбор данного раздела:* https://youtu.be/jCuRzL4BSkU?t=5663\n",
        "\n",
        "Вас позвали на конференцию, которая будет проходить в другом городе, но времени до выезда осталось не так много. Напишите своим коллегам как можно быстрее, что вы думаете об этой идее.\n",
        "\n",
        "Если до вылета остается меньше 8 часов, то вы навряд ли успеете на самолет, так что должна появиться строчка \"К сожалению, я не успеваю!\", иначе - \"Ждите меня у входа в аэропорт\".\n"
      ]
    },
    {
      "cell_type": "code",
      "metadata": {
        "id": "i3UpP7FUgwWS",
        "colab": {
          "base_uri": "https://localhost:8080/",
          "height": 52
        },
        "outputId": "f033b6e1-e9d1-4aab-bfbe-b65bd818d2e5"
      },
      "source": [
        "# Место для решения\n",
        "hours = int(input ('Сколько часов осталось до вылета?'))\n",
        "if hours < 0:\n",
        "  print ('Самолет уже улетел :)')\n",
        "elif hours < 8:\n",
        "  print('К сожалению, я не успеваю!')\n",
        "else:\n",
        "  print('Ждите меня у входа в аэропорт')"
      ],
      "execution_count": null,
      "outputs": [
        {
          "output_type": "stream",
          "text": [
            "Сколько часов осталось до вылета?-4\n",
            "Самолет уже улетел :)\n"
          ],
          "name": "stdout"
        }
      ]
    },
    {
      "cell_type": "markdown",
      "metadata": {
        "id": "PeDoPl2ogwWb"
      },
      "source": [
        "2) Вас позвали на конференцию, которая будет проходить в другом городе, но времени до выезда осталось не так много, к тому же вы не знаете, получится ли взять выходной. Необходимо проверить ближайшие рейсы и предупредить начальство. Напишите своим коллегам как можно быстрее, что вы думаете об этой идее.\n",
        "\n",
        "Если до вылета остается больше 8 часов, а до начальства вы не добрались, то напишите: \"Предупредите, пожалуйста, шефа о конференции\". Если вы успеваете везде, напишите: \"Ждите меня у входа в аэропорт\". В случае, когда остается меньше 8 часов и начальство не в курсе, то должна появиться строчка \"К сожалению, я не успеваю!\""
      ]
    },
    {
      "cell_type": "code",
      "metadata": {
        "id": "2zY9qp4hgwWe",
        "colab": {
          "base_uri": "https://localhost:8080/",
          "height": 69
        },
        "outputId": "91caa8fc-e82d-41b5-a8fd-c8a78580d20e"
      },
      "source": [
        "# Введите любое число\n",
        "hours = int(input('Время до вылета: '))\n",
        "# Введите да или нет\n",
        "boss = input('Начальство предупреждено? ')\n",
        "\n",
        "if hours > 8 and boss == 'да':\n",
        "    print(\"Ждите меня у входа в аэропорт\")\n",
        "\n",
        "elif hours > 8 and boss == 'нет':\n",
        "    print(\"Предупредите, пожалуйста, шефа о конференции\")\n",
        "\n",
        "else:\n",
        "    print(\"К сожалению, я не успеваю!\")"
      ],
      "execution_count": null,
      "outputs": [
        {
          "output_type": "stream",
          "text": [
            "Время до вылета: 3\n",
            "Начальство предупреждено? да\n",
            "К сожалению, я не успеваю!\n"
          ],
          "name": "stdout"
        }
      ]
    },
    {
      "cell_type": "markdown",
      "metadata": {
        "id": "xevK5Jt3gwWn"
      },
      "source": [
        "### Цикл while\n",
        "\n",
        "*Разбор данного раздела:* https://youtu.be/jCuRzL4BSkU?t=6523\n",
        "\n",
        "Циклические конструкции используются для многократного повторения одних и тех же действий.\n",
        "\n",
        "В цикле while команды выполняются до тех пор, пока некоторое заданное условие верно. При этом, если в теле цикла прямо не прописана процедура изменения переменной, заданной в условии, то получится бесконечный цикл.\n",
        "\n",
        "Структура цикла while:"
      ]
    },
    {
      "cell_type": "code",
      "metadata": {
        "id": "pGDlhkfFgwWp",
        "colab": {
          "base_uri": "https://localhost:8080/",
          "height": 69
        },
        "outputId": "2376feed-ae8d-4095-fa02-b89f3e6bb2ad"
      },
      "source": [
        "value = 3 # Создаем переменную layers_num и записываем в нее значение 3\n",
        "\n",
        "while value > 0: # Пока значение переменной layers_num > 0\n",
        "    print('Это многослойная сеть', value) # Вызываем функцию print, которая напечатает фразу 'Это многослойная сеть'\n",
        "    value -=1 # Уменьшаем значение переменной layers_num на 1 (то же самое, что и layers_num = layers_num - 1)"
      ],
      "execution_count": null,
      "outputs": [
        {
          "output_type": "stream",
          "text": [
            "Это многослойная сеть 3\n",
            "Это многослойная сеть 2\n",
            "Это многослойная сеть 1\n"
          ],
          "name": "stdout"
        }
      ]
    },
    {
      "cell_type": "markdown",
      "metadata": {
        "id": "Tb33DpKogwWy"
      },
      "source": [
        "#### Задача 7\n",
        "\n",
        "*Разбор данного раздела:* https://youtu.be/jCuRzL4BSkU?t=6891\n",
        "\n",
        "По данному целому числу N распечатайте все квадраты натуральных чисел, не превосходящие N, в порядке возрастания."
      ]
    },
    {
      "cell_type": "code",
      "metadata": {
        "id": "iBMSiAIngwW1",
        "colab": {
          "base_uri": "https://localhost:8080/",
          "height": 294
        },
        "outputId": "a69c846c-8e48-41aa-c379-8943b7cbcec5"
      },
      "source": [
        "# Место для решения\n",
        "N = int(input('Введите целое число: '))\n",
        "i = 1\n",
        "while  i ** 2 < N:\n",
        "  print(i ** 2)\n",
        "  i += 1\n",
        ""
      ],
      "execution_count": null,
      "outputs": [
        {
          "output_type": "stream",
          "text": [
            "Введите целое число: 247\n",
            "1\n",
            "4\n",
            "9\n",
            "16\n",
            "25\n",
            "36\n",
            "49\n",
            "64\n",
            "81\n",
            "100\n",
            "121\n",
            "144\n",
            "169\n",
            "196\n",
            "225\n"
          ],
          "name": "stdout"
        }
      ]
    },
    {
      "cell_type": "code",
      "metadata": {
        "id": "f7qAK6vaD90H",
        "colab": {
          "base_uri": "https://localhost:8080/",
          "height": 173
        },
        "outputId": "ad0a2719-fbf0-4a88-d267-8f29565324eb"
      },
      "source": [
        "i = 1\n",
        "while  i <= 10:\n",
        "  if i == 4:\n",
        "    i+=1\n",
        "    continue\n",
        "  print(i)\n",
        "  i+=1\n",
        ""
      ],
      "execution_count": null,
      "outputs": [
        {
          "output_type": "stream",
          "text": [
            "1\n",
            "2\n",
            "3\n",
            "5\n",
            "6\n",
            "7\n",
            "8\n",
            "9\n",
            "10\n"
          ],
          "name": "stdout"
        }
      ]
    },
    {
      "cell_type": "markdown",
      "metadata": {
        "id": "JhBN5yTfgwX4"
      },
      "source": [
        "## Цикл for\n",
        "\n",
        "*Разбор данного раздела:* https://youtu.be/jCuRzL4BSkU?t=7387\n",
        "\n",
        "\n",
        "Команды в цикле for выполняются для заданного списка объектов и повторяются столько раз, сколько этих объектов.\n",
        "\n",
        "Дословно это работает так:\n",
        "\n",
        "*Питон, для каждого объекта из списка объектов выполни, пожалуйста, вот это действие* :)\n"
      ]
    },
    {
      "cell_type": "markdown",
      "metadata": {
        "id": "fmoNyACOgwW9"
      },
      "source": [
        "### Функция range(n)\n",
        "\n",
        "Функция range выдает последовательность чисел в зависимости от заданных параметров.\n",
        "\n",
        "Синтаксис функции:"
      ]
    },
    {
      "cell_type": "code",
      "metadata": {
        "id": "NI6YLkmTgwXa",
        "colab": {
          "base_uri": "https://localhost:8080/",
          "height": 190
        },
        "outputId": "dc1a7df9-01ab-43e1-aa58-21231c642f23"
      },
      "source": [
        "for i in range(10): # Создаем цикл for, в котором переменная i поочередно будет принимать значения от 0 до 9\n",
        "    print(i) # Вызываем функцию print, которая выводит значение переменной i"
      ],
      "execution_count": null,
      "outputs": [
        {
          "output_type": "stream",
          "text": [
            "0\n",
            "1\n",
            "2\n",
            "3\n",
            "4\n",
            "5\n",
            "6\n",
            "7\n",
            "8\n",
            "9\n"
          ],
          "name": "stdout"
        }
      ]
    },
    {
      "cell_type": "code",
      "metadata": {
        "id": "999_SaIogwXi",
        "colab": {
          "base_uri": "https://localhost:8080/",
          "height": 173
        },
        "outputId": "8e38efcd-d608-4509-faec-ac881605c927"
      },
      "source": [
        "for i in range(3, 12): # Создаем цикл for, в котором переменная i поочередно будет принимать значения от 3 до 11\n",
        "    print(i) # Вызываем функцию print, которая выводит значение переменной i"
      ],
      "execution_count": null,
      "outputs": [
        {
          "output_type": "stream",
          "text": [
            "3\n",
            "4\n",
            "5\n",
            "6\n",
            "7\n",
            "8\n",
            "9\n",
            "10\n",
            "11\n"
          ],
          "name": "stdout"
        }
      ]
    },
    {
      "cell_type": "code",
      "metadata": {
        "id": "IcqURdFzgwXw",
        "colab": {
          "base_uri": "https://localhost:8080/",
          "height": 104
        },
        "outputId": "31be91ff-e3cc-483c-82ae-d8f6343b5ca1"
      },
      "source": [
        "for i in range(3, 12, 2): # Создаем цикл for, в котором переменная i поочередно будет принимать значения от 3 до 11 c шагом 2\n",
        "    print(i) # Вызываем функцию print, которая выводит значение переменной i"
      ],
      "execution_count": null,
      "outputs": [
        {
          "output_type": "stream",
          "text": [
            "3\n",
            "5\n",
            "7\n",
            "9\n",
            "11\n"
          ],
          "name": "stdout"
        }
      ]
    },
    {
      "cell_type": "code",
      "metadata": {
        "id": "DmWsBm7FgwYG",
        "colab": {
          "base_uri": "https://localhost:8080/",
          "height": 86
        },
        "outputId": "4d8336de-25f1-4d0c-bd0a-6de84f3472c8"
      },
      "source": [
        "for i in range(1, 5): # Создаем цикл for, в котором переменная i поочередно будет принимать значения от 1 до 4\n",
        "    print(i) # Вызываем функцию print, которая выводит значение переменной i"
      ],
      "execution_count": null,
      "outputs": [
        {
          "output_type": "stream",
          "text": [
            "1\n",
            "2\n",
            "3\n",
            "4\n"
          ],
          "name": "stdout"
        }
      ]
    },
    {
      "cell_type": "code",
      "metadata": {
        "id": "M7DIvHykgwYO",
        "colab": {
          "base_uri": "https://localhost:8080/",
          "height": 86
        },
        "outputId": "e86fbf4e-807d-42a6-9003-16f0c791108c"
      },
      "source": [
        "for animal in ['кошка', 'собака', 'енот', 'лиса']: # Создаем цикл for, в котором переменная animal поочередно будет принимать значения из последовательности 'кошка', 'собака', 'енот', 'лиса'\n",
        "    print(animal) # Вызываем функцию print, которая выводит значение переменной animal"
      ],
      "execution_count": null,
      "outputs": [
        {
          "output_type": "stream",
          "text": [
            "кошка\n",
            "собака\n",
            "енот\n",
            "лиса\n"
          ],
          "name": "stdout"
        }
      ]
    },
    {
      "cell_type": "markdown",
      "metadata": {
        "id": "MMCf4bodgwYW"
      },
      "source": [
        "#### Задача 8\n",
        "\n",
        "*Разбор данного раздела:* https://youtu.be/jCuRzL4BSkU?t=7685\n",
        "\n",
        "По данному целому числу N распечатайте все квадраты натуральных чисел, не превосходящие N, в порядке возрастания с использованием цикла for"
      ]
    },
    {
      "cell_type": "code",
      "metadata": {
        "id": "H8pDdN-GgwYZ",
        "colab": {
          "base_uri": "https://localhost:8080/",
          "height": 294
        },
        "outputId": "008e10b4-a544-4adb-cf82-21e9d88ba504"
      },
      "source": [
        "# Место для решения\n",
        "N = int(input('Введите целое число: '))\n",
        "for i in range(1, N):\n",
        "  if i ** 2 > N:\n",
        "    break\n",
        "  print(i ** 2)\n"
      ],
      "execution_count": null,
      "outputs": [
        {
          "output_type": "stream",
          "text": [
            "Введите целое число: 247\n",
            "1\n",
            "4\n",
            "9\n",
            "16\n",
            "25\n",
            "36\n",
            "49\n",
            "64\n",
            "81\n",
            "100\n",
            "121\n",
            "144\n",
            "169\n",
            "196\n",
            "225\n"
          ],
          "name": "stdout"
        }
      ]
    },
    {
      "cell_type": "markdown",
      "metadata": {
        "id": "PvHZCrnHgwYe"
      },
      "source": [
        "## Базовые структуры"
      ]
    },
    {
      "cell_type": "markdown",
      "metadata": {
        "id": "0GdbykDOgwYh"
      },
      "source": [
        "### Список (list)\n",
        "\n",
        "*Разбор данного раздела:* https://youtu.be/jCuRzL4BSkU?t=7812\n",
        "\n",
        "\n",
        "Среди наших коллег провели опрос о том, какие ассоциации вызывает каждое из времен года. Итог опроса показал среди топовых ассоциаций следующие:"
      ]
    },
    {
      "cell_type": "code",
      "metadata": {
        "id": "2OvlHymVgwYj"
      },
      "source": [
        "zima = 'снег' # Создаем переменную zima и записываем в нее значение 'снег'\n",
        "vesna = 'солнце' # Создаем переменную vesna и записываем в нее значение 'солнце'\n",
        "leto = 'фрукты' # Создаем переменную leto и записываем в нее значение 'фрукты'\n",
        "osen = 'листья' # Создаем переменную osen и записываем в нее значение 'листья'"
      ],
      "execution_count": null,
      "outputs": []
    },
    {
      "cell_type": "markdown",
      "metadata": {
        "id": "MM65W2uagwYr"
      },
      "source": [
        "Но это не очень удобно, можно хранить всю информацию в одной переменной:"
      ]
    },
    {
      "cell_type": "code",
      "metadata": {
        "id": "2p1MUbH-gwYw",
        "colab": {
          "base_uri": "https://localhost:8080/",
          "height": 34
        },
        "outputId": "e974aaa0-2ed0-4ee4-d949-22f007e97942"
      },
      "source": [
        "associations = ['снег', 'солнце', 'фрукты', 'листья'] # Создаем список значений\n",
        "print(associations) # Вызываем функцию print, которая выводит значения списка associations"
      ],
      "execution_count": null,
      "outputs": [
        {
          "output_type": "stream",
          "text": [
            "['снег', 'солнце', 'фрукты', 'листья']\n"
          ],
          "name": "stdout"
        }
      ]
    },
    {
      "cell_type": "code",
      "metadata": {
        "id": "yNf_zRUagwY9",
        "colab": {
          "base_uri": "https://localhost:8080/",
          "height": 52
        },
        "outputId": "c3a8281b-1525-48ad-d671-9d56967ce119"
      },
      "source": [
        "a1 = list() # Создаем пустой список a1\n",
        "a2 = [] # Создаем пустой список a2\n",
        "print(a1) # Вызываем функцию print, которая выводит значения списка a1\n",
        "print(a2) # Вызываем функцию print, которая выводит значения списка a2"
      ],
      "execution_count": null,
      "outputs": [
        {
          "output_type": "stream",
          "text": [
            "[]\n",
            "[]\n"
          ],
          "name": "stdout"
        }
      ]
    },
    {
      "cell_type": "markdown",
      "metadata": {
        "id": "A5S8XYMWgwZK"
      },
      "source": [
        "В списке можно хранить информацию разных типов:"
      ]
    },
    {
      "cell_type": "code",
      "metadata": {
        "id": "fFThzCDJgwZP",
        "colab": {
          "base_uri": "https://localhost:8080/",
          "height": 34
        },
        "outputId": "72cb2497-e14c-42e8-bed5-73ee6739d6b5"
      },
      "source": [
        "my_list = [20, 'город', 0.45, 2 + 3j] # Создаем список из элементов различных типов\n",
        "print(my_list) # Вызываем функцию print, которая выводит значения списка my_list"
      ],
      "execution_count": null,
      "outputs": [
        {
          "output_type": "stream",
          "text": [
            "[20, 'город', 0.45, (2+3j)]\n"
          ],
          "name": "stdout"
        }
      ]
    },
    {
      "cell_type": "code",
      "metadata": {
        "id": "t5H9jVpdG7fl"
      },
      "source": [],
      "execution_count": null,
      "outputs": []
    },
    {
      "cell_type": "markdown",
      "metadata": {
        "id": "-1MoM-fmgwZq"
      },
      "source": [
        "К элементам списка можно обращаться по индексу:"
      ]
    },
    {
      "cell_type": "code",
      "metadata": {
        "id": "BcnWkEjKgwZt",
        "colab": {
          "base_uri": "https://localhost:8080/",
          "height": 34
        },
        "outputId": "bcbd6205-8dfc-4d08-e847-e8cb9ae1c3cc"
      },
      "source": [
        "associations[0]  # Вызываем функцию print, которая выводит значение 0-го элемента списка associations"
      ],
      "execution_count": null,
      "outputs": [
        {
          "output_type": "execute_result",
          "data": {
            "text/plain": [
              "'снег'"
            ]
          },
          "metadata": {
            "tags": []
          },
          "execution_count": 150
        }
      ]
    },
    {
      "cell_type": "code",
      "metadata": {
        "id": "gmPn6llugwZ7",
        "colab": {
          "base_uri": "https://localhost:8080/",
          "height": 86
        },
        "outputId": "9c1df343-9c3b-434e-8172-64430e88a38c"
      },
      "source": [
        "for el in range(-4, 0): # Создаем цикл for, в котором переменная el поочередно будет принимать значения от -4 до -1\n",
        "    print('Это значение индекса: {}, а это элемент списка: {}'.format(el, associations[el])) # Вызываем функцию print, которая выводит значение переменной el и значение элемента списка associations с индексом el"
      ],
      "execution_count": null,
      "outputs": [
        {
          "output_type": "stream",
          "text": [
            "Это значение индекса: -4, а это элемент списка: снег\n",
            "Это значение индекса: -3, а это элемент списка: солнце\n",
            "Это значение индекса: -2, а это элемент списка: фрукты\n",
            "Это значение индекса: -1, а это элемент списка: листья\n"
          ],
          "name": "stdout"
        }
      ]
    },
    {
      "cell_type": "markdown",
      "metadata": {
        "id": "rit6BDDjgwaR"
      },
      "source": [
        "Листы можно итерировать естественным способом:"
      ]
    },
    {
      "cell_type": "code",
      "metadata": {
        "id": "M55XfsD_gwaV",
        "colab": {
          "base_uri": "https://localhost:8080/",
          "height": 86
        },
        "outputId": "d246730a-0853-46b1-da59-9bf4aac83edd"
      },
      "source": [
        "for a in associations: # Создаем цикл for, в котором переменная a поочередно будет принимать значения из списка associations\n",
        "    print(a)  # Вызываем функцию print, которая выводит значение элемента списка associations с индексом a"
      ],
      "execution_count": null,
      "outputs": [
        {
          "output_type": "stream",
          "text": [
            "снег\n",
            "солнце\n",
            "фрукты\n",
            "листья\n"
          ],
          "name": "stdout"
        }
      ]
    },
    {
      "cell_type": "code",
      "metadata": {
        "id": "e9fq9rpbgwaj",
        "colab": {
          "base_uri": "https://localhost:8080/",
          "height": 86
        },
        "outputId": "ed3eda85-f100-4895-8739-3b2e2a35de81"
      },
      "source": [
        "for i in range(4): # Создаем цикл for, в котором переменная i поочередно будет принимать значения от 0 до 3\n",
        "    print(associations[i]) # Вызываем функцию print, которая выводит значение элемента списка associations с индексом i"
      ],
      "execution_count": null,
      "outputs": [
        {
          "output_type": "stream",
          "text": [
            "снег\n",
            "солнце\n",
            "фрукты\n",
            "листья\n"
          ],
          "name": "stdout"
        }
      ]
    },
    {
      "cell_type": "markdown",
      "metadata": {
        "id": "sqlmOkdkgwax"
      },
      "source": [
        "А еще бывает лист из листов :)"
      ]
    },
    {
      "cell_type": "code",
      "metadata": {
        "id": "WjloaOG5gwa1",
        "colab": {
          "base_uri": "https://localhost:8080/",
          "height": 34
        },
        "outputId": "ce632185-bd58-4520-fdc8-a5dfccea9d31"
      },
      "source": [
        "associations = [['Зима', 'снег'], ['Весна', 'солнце'], ['Лето', 'фрукты'], ['Осень', 'листья']] # Создаем список, элементы которого также являются списками\n",
        "print(associations) # Вызываем функцию print, которая выводит список associations"
      ],
      "execution_count": null,
      "outputs": [
        {
          "output_type": "stream",
          "text": [
            "[['Зима', 'снег'], ['Весна', 'солнце'], ['Лето', 'фрукты'], ['Осень', 'листья']]\n"
          ],
          "name": "stdout"
        }
      ]
    },
    {
      "cell_type": "code",
      "metadata": {
        "id": "a3q8tHS0gwbH",
        "colab": {
          "base_uri": "https://localhost:8080/",
          "height": 86
        },
        "outputId": "b2a5f4d1-dd3c-49e0-9873-084f304befb2"
      },
      "source": [
        "for el in associations: # Создаем цикл for, в котором переменная el поочередно будет принимать значения из списка associations\n",
        "    print('время года: {}, ассоциация: {}'.format(el[0], el[1])) # Вызываем функцию print, которая выводит 0-е и 1-е значение элемента el"
      ],
      "execution_count": null,
      "outputs": [
        {
          "output_type": "stream",
          "text": [
            "время года: Зима, ассоциация: снег\n",
            "время года: Весна, ассоциация: солнце\n",
            "время года: Лето, ассоциация: фрукты\n",
            "время года: Осень, ассоциация: листья\n"
          ],
          "name": "stdout"
        }
      ]
    },
    {
      "cell_type": "markdown",
      "metadata": {
        "id": "67xaUWLfgwbW"
      },
      "source": [
        "**Есть много методов, т.е. функций, которые присущи только листам, для работы с листами:**\n",
        "\n",
        "Методы\n",
        "- list.append(x)\tДобавляет элемент в конец списка\n",
        "- list.extend(L)\tРасширяет список list, добавляя в конец все элементы списка L\n",
        "- list.insert(i, x)\tВставляет на i-ый элемент значение x\n",
        "- list.remove(x)\tУдаляет первый элемент в списке, имеющий значение x ValueError, если такого элемента не существует\n",
        "- list.pop([i])\tУдаляет i-ый элемент и возвращает его. Если индекс не указан, удаляется последний элемент\n",
        "- list.index(x, [start [, end]])\tВозвращает положение первого элемента со значением x (при этом поиск ведется от start до end)\n",
        "- list.count(x)\tВозвращает количество элементов со значением x\n",
        "- list.sort([key=функция])\tСортирует список на основе функции\n",
        "- list.reverse()\tРазворачивает список\n",
        "- list.copy()\tПоверхностная копия списка\n",
        "- list.clear()\tОчищает список"
      ]
    },
    {
      "cell_type": "code",
      "metadata": {
        "id": "ZC3pdUfYwz2D"
      },
      "source": [],
      "execution_count": null,
      "outputs": []
    },
    {
      "cell_type": "markdown",
      "metadata": {
        "id": "nwUS_syNgwbb"
      },
      "source": [
        "### Словарь (dict)\n",
        "\n",
        "*Разбор данного раздела:* https://youtu.be/jCuRzL4BSkU?t=8678\n",
        "\n"
      ]
    },
    {
      "cell_type": "code",
      "metadata": {
        "id": "IF8Gv06cgwbi"
      },
      "source": [
        "my_dict = {'Зима' : 'снег',\n",
        "           'Весна' : 'солнце',\n",
        "           'Лето' : 'фрукты',\n",
        "           'Осень' : 'листья'\n",
        "          } # Создаем словарь значение"
      ],
      "execution_count": null,
      "outputs": []
    },
    {
      "cell_type": "code",
      "metadata": {
        "id": "flbOO3T5gwbt",
        "colab": {
          "base_uri": "https://localhost:8080/",
          "height": 34
        },
        "outputId": "9e848de0-229c-48d9-caba-b63e7d92603b"
      },
      "source": [
        "my_dict # Отображаем созданный словарь"
      ],
      "execution_count": null,
      "outputs": [
        {
          "output_type": "execute_result",
          "data": {
            "text/plain": [
              "{'Весна': 'солнце', 'Зима': 'снег', 'Лето': 'фрукты', 'Осень': 'листья'}"
            ]
          },
          "metadata": {
            "tags": []
          },
          "execution_count": 172
        }
      ]
    },
    {
      "cell_type": "markdown",
      "metadata": {
        "id": "V0B7zsKvgwb6"
      },
      "source": [
        "У словаря есть 'ключи' и 'значения':"
      ]
    },
    {
      "cell_type": "code",
      "metadata": {
        "id": "KUv7u7Nqgwb-",
        "colab": {
          "base_uri": "https://localhost:8080/",
          "height": 34
        },
        "outputId": "92302ad5-b87a-47e4-f3d3-dbde24577000"
      },
      "source": [
        "my_dict.keys() # Вызываем метод .keys(), который вернет набор ключей словаря"
      ],
      "execution_count": null,
      "outputs": [
        {
          "output_type": "execute_result",
          "data": {
            "text/plain": [
              "dict_keys(['Зима', 'Весна', 'Лето', 'Осень'])"
            ]
          },
          "metadata": {
            "tags": []
          },
          "execution_count": 173
        }
      ]
    },
    {
      "cell_type": "code",
      "metadata": {
        "id": "F6NZUOOUgwcI",
        "colab": {
          "base_uri": "https://localhost:8080/",
          "height": 34
        },
        "outputId": "d5805653-7b65-4175-a99c-96d07f4478ec"
      },
      "source": [
        "my_dict.values() # Вызываем метод .keys(), который вернет набор значений словаря"
      ],
      "execution_count": null,
      "outputs": [
        {
          "output_type": "execute_result",
          "data": {
            "text/plain": [
              "dict_values(['снег', 'солнце', 'фрукты', 'листья'])"
            ]
          },
          "metadata": {
            "tags": []
          },
          "execution_count": 174
        }
      ]
    },
    {
      "cell_type": "code",
      "metadata": {
        "id": "rN6zjMacgwcZ",
        "colab": {
          "base_uri": "https://localhost:8080/",
          "height": 34
        },
        "outputId": "64118016-d435-48ac-eb57-12b705432b03"
      },
      "source": [
        "my_dict.items() # Вызываем метод .items(), который вернет набор пар: ключ-значение"
      ],
      "execution_count": null,
      "outputs": [
        {
          "output_type": "execute_result",
          "data": {
            "text/plain": [
              "dict_items([('Зима', 'снег'), ('Весна', 'солнце'), ('Лето', 'фрукты'), ('Осень', 'листья')])"
            ]
          },
          "metadata": {
            "tags": []
          },
          "execution_count": 175
        }
      ]
    },
    {
      "cell_type": "code",
      "metadata": {
        "id": "wQVjLPswgwcu",
        "colab": {
          "base_uri": "https://localhost:8080/",
          "height": 34
        },
        "outputId": "934eb63a-734e-45ac-e006-449c886717ea"
      },
      "source": [
        "my_dict['Зима'] # Получаем значение элемента словаря с ключом 'Зима'"
      ],
      "execution_count": null,
      "outputs": [
        {
          "output_type": "execute_result",
          "data": {
            "text/plain": [
              "'снег'"
            ]
          },
          "metadata": {
            "tags": []
          },
          "execution_count": 178
        }
      ]
    },
    {
      "cell_type": "code",
      "metadata": {
        "id": "77YpzTwGgwdE",
        "colab": {
          "base_uri": "https://localhost:8080/",
          "height": 52
        },
        "outputId": "895b6d59-f9ef-4f7e-d246-8adf88a85c5c"
      },
      "source": [
        "element = my_dict.pop('Зима') # Удаляем из словаря элемент с ключом 'Зима' и записываем значение по этому ключу в переменную element\n",
        "print(element) # Вызываем функцию print, которая выводит значение переменной element\n",
        "print(my_dict) # Вызываем функцию print, которая выводит словарь my_dict"
      ],
      "execution_count": null,
      "outputs": [
        {
          "output_type": "stream",
          "text": [
            "снег\n",
            "{'Весна': 'солнце', 'Лето': 'фрукты', 'Осень': 'листья'}\n"
          ],
          "name": "stdout"
        }
      ]
    },
    {
      "cell_type": "markdown",
      "metadata": {
        "id": "2DYiGluPkolk"
      },
      "source": [
        "# **Глоссарий**\n",
        "\n",
        "*Функции (из коробки):*\n",
        "\n",
        "**print()** - вывод на экран\n",
        "\n",
        "**input()** - ввод с клавиатуры\n",
        "\n",
        "**len()** - длина объекта\n",
        "\n",
        "**range()** - диапазон чисел\n",
        "\n",
        "\n",
        "*Основные типы данных:*\n",
        "\n",
        "\n",
        "**int** - целые числа (7)\n",
        "\n",
        "**float** - числа с плавающей точкой (7.0)\n",
        "\n",
        "**string** - строковые данные ('строка')\n",
        "\n",
        "**bool** - булевы данные (True/False)\n",
        "\n"
      ]
    },
    {
      "cell_type": "markdown",
      "metadata": {
        "id": "VgEvT2a_oqNR"
      },
      "source": [
        "*Базовые структуры данных:*\n",
        "\n",
        "**list** - структура, предназначенная для хранения данных разных типов.\n",
        "> преобразовать объект в список **list()**\n",
        "\n",
        "**set** - множество - похож на список с разницей, что в нем не может быть повторяющихся элементов. Т.е., если список может быть [1,2,2], то множество будет (1,2).\n",
        "> преобразовать объект в множество/создать пустое множество **set()**\n",
        "\n",
        "**tuple** - кортеж - похож на список с разницей, что в него нельзя добавить новые элементы.\n",
        "> преобразовать объект в кортеж/создать новый кортеж **tuple()**\n",
        "\n",
        "**dict** - структура, предназначенная для хранения данных разных типов, при этом организована по типу ключа-значение.\n",
        "> преобразовать в словарь/ создать новый словарь {КЛЮЧ:ЗНАЧЕНИЕ}\n",
        "\n",
        "\n"
      ]
    },
    {
      "cell_type": "markdown",
      "metadata": {
        "id": "X8PXt3JIoCIf"
      },
      "source": [
        "# Краткий гайд по обозначениям в Python\n",
        "\n",
        "Если это...\n",
        "\n",
        "[ ] - список\n",
        "\n",
        "( ) - кортеж\n",
        "\n",
        "{ } - словарь\n",
        "\n",
        "----------------\n",
        "\n",
        "[ [ ], [ ] ] - список списков\n",
        "\n",
        "[ ( ) , ( ) ] - список кортежей\n",
        "\n",
        "[ { } , { } ] - список словарей\n",
        "\n",
        "----------------\n",
        "( [ ] , [ ] ) - кортеж из списков\n",
        "\n",
        "( ( ) , ( ) ) - котреж из кортежей\n",
        "\n",
        "( { } , { } ) - кортеж из словарей\n",
        "\n",
        "----------------\n",
        "{ключ:[значение]} - словарь и значение представлено в виде списка\n",
        "{ключ: ()} - словарь и значение представлено в виде кортежа\n",
        "\n",
        ".() - функция/метод\n",
        "\n",
        "Пример:\n",
        "\n",
        "         a = [5, 2, 3, 1, 4]\n",
        "        \n",
        "         a.sort() # вызываем функцию сортировки\n",
        "\n",
        "         >>>>[1, 2, 3, 4, 5]\n",
        "\n",
        ".- атрибут объекта\n",
        "\n",
        "        array.shape\n",
        "\n",
        "\n",
        "А если так, то...\n",
        "\n",
        "a[ ] - вытащить значение под конкретным индексом. **а** является в этом случае итерируемым объектом (объект, в котором есть другие объекты)\n",
        "\n",
        "a( ) - вызвать функцию (если необходимы параметры, то указываются в скобках)\n",
        "\n"
      ]
    },
    {
      "cell_type": "code",
      "metadata": {
        "id": "OW9u5fNMNBfw"
      },
      "source": [
        "my_dict = { 5 : True,\n",
        "            6.987 : \"Privet\",\n",
        "            False : 123\n",
        "          }\n"
      ],
      "execution_count": null,
      "outputs": []
    },
    {
      "cell_type": "code",
      "metadata": {
        "id": "LnP3VSBvNFI7",
        "colab": {
          "base_uri": "https://localhost:8080/",
          "height": 34
        },
        "outputId": "13d95988-77b9-4760-eba8-eb16a5b966ff"
      },
      "source": [
        "my_dict[5]"
      ],
      "execution_count": null,
      "outputs": [
        {
          "output_type": "execute_result",
          "data": {
            "text/plain": [
              "True"
            ]
          },
          "metadata": {
            "tags": []
          },
          "execution_count": 2
        }
      ]
    },
    {
      "cell_type": "code",
      "metadata": {
        "id": "wVbSgDLyNF0-"
      },
      "source": [
        "lst"
      ],
      "execution_count": null,
      "outputs": []
    },
    {
      "cell_type": "code",
      "metadata": {
        "id": "EcsGUHghNGca"
      },
      "source": [
        "a, b, c = (1, 2, 3)\n"
      ],
      "execution_count": null,
      "outputs": []
    },
    {
      "cell_type": "code",
      "metadata": {
        "id": "ZA5C5QicNHYQ",
        "colab": {
          "base_uri": "https://localhost:8080/",
          "height": 34
        },
        "outputId": "bf6b7407-0e86-4c20-b6b0-9405550d0d22"
      },
      "source": [
        "type(cort)"
      ],
      "execution_count": null,
      "outputs": [
        {
          "output_type": "execute_result",
          "data": {
            "text/plain": [
              "tuple"
            ]
          },
          "metadata": {
            "tags": []
          },
          "execution_count": 191
        }
      ]
    },
    {
      "cell_type": "code",
      "metadata": {
        "id": "iBeVHJPYNI2B",
        "colab": {
          "base_uri": "https://localhost:8080/",
          "height": 34
        },
        "outputId": "dc90a3f7-50d6-498c-ed64-e50f6043e5e6"
      },
      "source": [
        "len(lst)"
      ],
      "execution_count": null,
      "outputs": [
        {
          "output_type": "execute_result",
          "data": {
            "text/plain": [
              "5"
            ]
          },
          "metadata": {
            "tags": []
          },
          "execution_count": 197
        }
      ]
    },
    {
      "cell_type": "code",
      "metadata": {
        "id": "bluRp7YqNKgl",
        "colab": {
          "base_uri": "https://localhost:8080/",
          "height": 34
        },
        "outputId": "1da6bb84-e225-4b5e-8660-59466dec240d"
      },
      "source": [
        "my_dict"
      ],
      "execution_count": null,
      "outputs": [
        {
          "output_type": "execute_result",
          "data": {
            "text/plain": [
              "{False: 123, 5: True, 6.987: 'Privet'}"
            ]
          },
          "metadata": {
            "tags": []
          },
          "execution_count": 198
        }
      ]
    },
    {
      "cell_type": "code",
      "metadata": {
        "id": "9U46sg-qNMdQ",
        "colab": {
          "base_uri": "https://localhost:8080/",
          "height": 34
        },
        "outputId": "0582fc13-82e2-4fa7-b6b6-03a9fa3e7e89"
      },
      "source": [
        "my_dict[7] = 3\n",
        "my_dict"
      ],
      "execution_count": null,
      "outputs": [
        {
          "output_type": "execute_result",
          "data": {
            "text/plain": [
              "{False: 123, 5: True, 6.987: 'Privet', 7: 3}"
            ]
          },
          "metadata": {
            "tags": []
          },
          "execution_count": 200
        }
      ]
    },
    {
      "cell_type": "code",
      "metadata": {
        "id": "tccVanxtPpsP"
      },
      "source": [],
      "execution_count": null,
      "outputs": []
    }
  ]
}